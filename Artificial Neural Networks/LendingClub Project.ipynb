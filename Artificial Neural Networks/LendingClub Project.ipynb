{
 "cells": [
  {
   "cell_type": "markdown",
   "metadata": {},
   "source": [
    "# LendingClub Project\n",
    "\n",
    "## Problem\n",
    "Given historical data on loans given out with information on whether or not the borrower defaulted (charge-off), build a model that can predict wether or nor a borrower will pay back their loan. This way in the future when we get a new potential customer we can assess whether or not they are likely to pay back the loan. \n",
    "\n",
    "The \"loan_status\" column contains our label.\n",
    "\n",
    "## Data Overview"
   ]
  },
  {
   "cell_type": "code",
   "execution_count": 1,
   "metadata": {
    "scrolled": false
   },
   "outputs": [
    {
     "name": "stdout",
     "output_type": "stream",
     "text": [
      "Feature Description List:\n"
     ]
    },
    {
     "data": {
      "text/html": [
       "<div>\n",
       "<style scoped>\n",
       "    .dataframe tbody tr th:only-of-type {\n",
       "        vertical-align: middle;\n",
       "    }\n",
       "\n",
       "    .dataframe tbody tr th {\n",
       "        vertical-align: top;\n",
       "    }\n",
       "\n",
       "    .dataframe thead th {\n",
       "        text-align: right;\n",
       "    }\n",
       "</style>\n",
       "<table border=\"1\" class=\"dataframe\">\n",
       "  <thead>\n",
       "    <tr style=\"text-align: right;\">\n",
       "      <th></th>\n",
       "      <th>Description</th>\n",
       "    </tr>\n",
       "    <tr>\n",
       "      <th>LoanStatNew</th>\n",
       "      <th></th>\n",
       "    </tr>\n",
       "  </thead>\n",
       "  <tbody>\n",
       "    <tr>\n",
       "      <th>loan_amnt</th>\n",
       "      <td>The listed amount of the loan applied for by t...</td>\n",
       "    </tr>\n",
       "    <tr>\n",
       "      <th>term</th>\n",
       "      <td>The number of payments on the loan. Values are...</td>\n",
       "    </tr>\n",
       "    <tr>\n",
       "      <th>int_rate</th>\n",
       "      <td>Interest Rate on the loan</td>\n",
       "    </tr>\n",
       "    <tr>\n",
       "      <th>installment</th>\n",
       "      <td>The monthly payment owed by the borrower if th...</td>\n",
       "    </tr>\n",
       "    <tr>\n",
       "      <th>grade</th>\n",
       "      <td>LC assigned loan grade</td>\n",
       "    </tr>\n",
       "    <tr>\n",
       "      <th>sub_grade</th>\n",
       "      <td>LC assigned loan subgrade</td>\n",
       "    </tr>\n",
       "    <tr>\n",
       "      <th>emp_title</th>\n",
       "      <td>The job title supplied by the Borrower when ap...</td>\n",
       "    </tr>\n",
       "    <tr>\n",
       "      <th>emp_length</th>\n",
       "      <td>Employment length in years. Possible values ar...</td>\n",
       "    </tr>\n",
       "    <tr>\n",
       "      <th>home_ownership</th>\n",
       "      <td>The home ownership status provided by the borr...</td>\n",
       "    </tr>\n",
       "    <tr>\n",
       "      <th>annual_inc</th>\n",
       "      <td>The self-reported annual income provided by th...</td>\n",
       "    </tr>\n",
       "    <tr>\n",
       "      <th>verification_status</th>\n",
       "      <td>Indicates if income was verified by LC, not ve...</td>\n",
       "    </tr>\n",
       "    <tr>\n",
       "      <th>issue_d</th>\n",
       "      <td>The month which the loan was funded</td>\n",
       "    </tr>\n",
       "    <tr>\n",
       "      <th>loan_status</th>\n",
       "      <td>Current status of the loan</td>\n",
       "    </tr>\n",
       "    <tr>\n",
       "      <th>purpose</th>\n",
       "      <td>A category provided by the borrower for the lo...</td>\n",
       "    </tr>\n",
       "    <tr>\n",
       "      <th>title</th>\n",
       "      <td>The loan title provided by the borrower</td>\n",
       "    </tr>\n",
       "    <tr>\n",
       "      <th>zip_code</th>\n",
       "      <td>The first 3 numbers of the zip code provided b...</td>\n",
       "    </tr>\n",
       "    <tr>\n",
       "      <th>addr_state</th>\n",
       "      <td>The state provided by the borrower in the loan...</td>\n",
       "    </tr>\n",
       "    <tr>\n",
       "      <th>dti</th>\n",
       "      <td>A ratio calculated using the borrower’s total ...</td>\n",
       "    </tr>\n",
       "    <tr>\n",
       "      <th>earliest_cr_line</th>\n",
       "      <td>The month the borrower's earliest reported cre...</td>\n",
       "    </tr>\n",
       "    <tr>\n",
       "      <th>open_acc</th>\n",
       "      <td>The number of open credit lines in the borrowe...</td>\n",
       "    </tr>\n",
       "    <tr>\n",
       "      <th>pub_rec</th>\n",
       "      <td>Number of derogatory public records</td>\n",
       "    </tr>\n",
       "    <tr>\n",
       "      <th>revol_bal</th>\n",
       "      <td>Total credit revolving balance</td>\n",
       "    </tr>\n",
       "    <tr>\n",
       "      <th>revol_util</th>\n",
       "      <td>Revolving line utilization rate, or the amount...</td>\n",
       "    </tr>\n",
       "    <tr>\n",
       "      <th>total_acc</th>\n",
       "      <td>The total number of credit lines currently in ...</td>\n",
       "    </tr>\n",
       "    <tr>\n",
       "      <th>initial_list_status</th>\n",
       "      <td>The initial listing status of the loan. Possib...</td>\n",
       "    </tr>\n",
       "    <tr>\n",
       "      <th>application_type</th>\n",
       "      <td>Indicates whether the loan is an individual ap...</td>\n",
       "    </tr>\n",
       "    <tr>\n",
       "      <th>mort_acc</th>\n",
       "      <td>Number of mortgage accounts.</td>\n",
       "    </tr>\n",
       "    <tr>\n",
       "      <th>pub_rec_bankruptcies</th>\n",
       "      <td>Number of public record bankruptcies</td>\n",
       "    </tr>\n",
       "  </tbody>\n",
       "</table>\n",
       "</div>"
      ],
      "text/plain": [
       "                                                            Description\n",
       "LoanStatNew                                                            \n",
       "loan_amnt             The listed amount of the loan applied for by t...\n",
       "term                  The number of payments on the loan. Values are...\n",
       "int_rate                                      Interest Rate on the loan\n",
       "installment           The monthly payment owed by the borrower if th...\n",
       "grade                                            LC assigned loan grade\n",
       "sub_grade                                     LC assigned loan subgrade\n",
       "emp_title             The job title supplied by the Borrower when ap...\n",
       "emp_length            Employment length in years. Possible values ar...\n",
       "home_ownership        The home ownership status provided by the borr...\n",
       "annual_inc            The self-reported annual income provided by th...\n",
       "verification_status   Indicates if income was verified by LC, not ve...\n",
       "issue_d                             The month which the loan was funded\n",
       "loan_status                                  Current status of the loan\n",
       "purpose               A category provided by the borrower for the lo...\n",
       "title                           The loan title provided by the borrower\n",
       "zip_code              The first 3 numbers of the zip code provided b...\n",
       "addr_state            The state provided by the borrower in the loan...\n",
       "dti                   A ratio calculated using the borrower’s total ...\n",
       "earliest_cr_line      The month the borrower's earliest reported cre...\n",
       "open_acc              The number of open credit lines in the borrowe...\n",
       "pub_rec                             Number of derogatory public records\n",
       "revol_bal                                Total credit revolving balance\n",
       "revol_util            Revolving line utilization rate, or the amount...\n",
       "total_acc             The total number of credit lines currently in ...\n",
       "initial_list_status   The initial listing status of the loan. Possib...\n",
       "application_type      Indicates whether the loan is an individual ap...\n",
       "mort_acc                                   Number of mortgage accounts.\n",
       "pub_rec_bankruptcies               Number of public record bankruptcies"
      ]
     },
     "execution_count": 1,
     "metadata": {},
     "output_type": "execute_result"
    }
   ],
   "source": [
    "# import all necessary libraries\n",
    "import pandas as pd\n",
    "import numpy as np\n",
    "import matplotlib.pyplot as plt\n",
    "import seaborn as sns\n",
    "from sklearn.model_selection import train_test_split\n",
    "from sklearn.preprocessing import MinMaxScaler\n",
    "from sklearn.metrics import classification_report, confusion_matrix\n",
    "from tensorflow.keras.models import Sequential\n",
    "from tensorflow.keras.layers import Dense, Activation, Dropout\n",
    "from tensorflow.keras.callbacks import EarlyStopping\n",
    "\n",
    "\n",
    "# display plots in line\n",
    "%matplotlib inline\n",
    "# for faster tab autocomplete usage\n",
    "%config Completer.use_jedi = False\n",
    "\n",
    "# set global styling\n",
    "sns.set_style('whitegrid')\n",
    "sns.set_palette('YlGnBu_r', 3)\n",
    "\n",
    "# load in a df of features as index and descriptions\n",
    "data_info = pd.read_csv('lending_club_info.csv', index_col='LoanStatNew')\n",
    "\n",
    "print('Feature Description List:')\n",
    "data_info"
   ]
  },
  {
   "cell_type": "code",
   "execution_count": 2,
   "metadata": {},
   "outputs": [],
   "source": [
    "# define function to return the description given a feature name\n",
    "def feat_info(feat_name):\n",
    "    \"\"\"\n",
    "    Return description given feature name.\n",
    "    \"\"\"\n",
    "    print(feat_name,': ', data_info.loc[feat_name]['Description'])"
   ]
  },
  {
   "cell_type": "code",
   "execution_count": 3,
   "metadata": {},
   "outputs": [
    {
     "data": {
      "text/html": [
       "<div>\n",
       "<style scoped>\n",
       "    .dataframe tbody tr th:only-of-type {\n",
       "        vertical-align: middle;\n",
       "    }\n",
       "\n",
       "    .dataframe tbody tr th {\n",
       "        vertical-align: top;\n",
       "    }\n",
       "\n",
       "    .dataframe thead th {\n",
       "        text-align: right;\n",
       "    }\n",
       "</style>\n",
       "<table border=\"1\" class=\"dataframe\">\n",
       "  <thead>\n",
       "    <tr style=\"text-align: right;\">\n",
       "      <th></th>\n",
       "      <th>loan_amnt</th>\n",
       "      <th>term</th>\n",
       "      <th>int_rate</th>\n",
       "      <th>installment</th>\n",
       "      <th>grade</th>\n",
       "      <th>sub_grade</th>\n",
       "      <th>emp_title</th>\n",
       "      <th>emp_length</th>\n",
       "      <th>home_ownership</th>\n",
       "      <th>annual_inc</th>\n",
       "      <th>...</th>\n",
       "      <th>open_acc</th>\n",
       "      <th>pub_rec</th>\n",
       "      <th>revol_bal</th>\n",
       "      <th>revol_util</th>\n",
       "      <th>total_acc</th>\n",
       "      <th>initial_list_status</th>\n",
       "      <th>application_type</th>\n",
       "      <th>mort_acc</th>\n",
       "      <th>pub_rec_bankruptcies</th>\n",
       "      <th>address</th>\n",
       "    </tr>\n",
       "  </thead>\n",
       "  <tbody>\n",
       "    <tr>\n",
       "      <th>0</th>\n",
       "      <td>10000.0</td>\n",
       "      <td>36 months</td>\n",
       "      <td>11.44</td>\n",
       "      <td>329.48</td>\n",
       "      <td>B</td>\n",
       "      <td>B4</td>\n",
       "      <td>Marketing</td>\n",
       "      <td>10+ years</td>\n",
       "      <td>RENT</td>\n",
       "      <td>117000.0</td>\n",
       "      <td>...</td>\n",
       "      <td>16.0</td>\n",
       "      <td>0.0</td>\n",
       "      <td>36369.0</td>\n",
       "      <td>41.8</td>\n",
       "      <td>25.0</td>\n",
       "      <td>w</td>\n",
       "      <td>INDIVIDUAL</td>\n",
       "      <td>0.0</td>\n",
       "      <td>0.0</td>\n",
       "      <td>0174 Michelle Gateway\\nMendozaberg, OK 22690</td>\n",
       "    </tr>\n",
       "    <tr>\n",
       "      <th>1</th>\n",
       "      <td>8000.0</td>\n",
       "      <td>36 months</td>\n",
       "      <td>11.99</td>\n",
       "      <td>265.68</td>\n",
       "      <td>B</td>\n",
       "      <td>B5</td>\n",
       "      <td>Credit analyst</td>\n",
       "      <td>4 years</td>\n",
       "      <td>MORTGAGE</td>\n",
       "      <td>65000.0</td>\n",
       "      <td>...</td>\n",
       "      <td>17.0</td>\n",
       "      <td>0.0</td>\n",
       "      <td>20131.0</td>\n",
       "      <td>53.3</td>\n",
       "      <td>27.0</td>\n",
       "      <td>f</td>\n",
       "      <td>INDIVIDUAL</td>\n",
       "      <td>3.0</td>\n",
       "      <td>0.0</td>\n",
       "      <td>1076 Carney Fort Apt. 347\\nLoganmouth, SD 05113</td>\n",
       "    </tr>\n",
       "    <tr>\n",
       "      <th>2</th>\n",
       "      <td>15600.0</td>\n",
       "      <td>36 months</td>\n",
       "      <td>10.49</td>\n",
       "      <td>506.97</td>\n",
       "      <td>B</td>\n",
       "      <td>B3</td>\n",
       "      <td>Statistician</td>\n",
       "      <td>&lt; 1 year</td>\n",
       "      <td>RENT</td>\n",
       "      <td>43057.0</td>\n",
       "      <td>...</td>\n",
       "      <td>13.0</td>\n",
       "      <td>0.0</td>\n",
       "      <td>11987.0</td>\n",
       "      <td>92.2</td>\n",
       "      <td>26.0</td>\n",
       "      <td>f</td>\n",
       "      <td>INDIVIDUAL</td>\n",
       "      <td>0.0</td>\n",
       "      <td>0.0</td>\n",
       "      <td>87025 Mark Dale Apt. 269\\nNew Sabrina, WV 05113</td>\n",
       "    </tr>\n",
       "    <tr>\n",
       "      <th>3</th>\n",
       "      <td>7200.0</td>\n",
       "      <td>36 months</td>\n",
       "      <td>6.49</td>\n",
       "      <td>220.65</td>\n",
       "      <td>A</td>\n",
       "      <td>A2</td>\n",
       "      <td>Client Advocate</td>\n",
       "      <td>6 years</td>\n",
       "      <td>RENT</td>\n",
       "      <td>54000.0</td>\n",
       "      <td>...</td>\n",
       "      <td>6.0</td>\n",
       "      <td>0.0</td>\n",
       "      <td>5472.0</td>\n",
       "      <td>21.5</td>\n",
       "      <td>13.0</td>\n",
       "      <td>f</td>\n",
       "      <td>INDIVIDUAL</td>\n",
       "      <td>0.0</td>\n",
       "      <td>0.0</td>\n",
       "      <td>823 Reid Ford\\nDelacruzside, MA 00813</td>\n",
       "    </tr>\n",
       "    <tr>\n",
       "      <th>4</th>\n",
       "      <td>24375.0</td>\n",
       "      <td>60 months</td>\n",
       "      <td>17.27</td>\n",
       "      <td>609.33</td>\n",
       "      <td>C</td>\n",
       "      <td>C5</td>\n",
       "      <td>Destiny Management Inc.</td>\n",
       "      <td>9 years</td>\n",
       "      <td>MORTGAGE</td>\n",
       "      <td>55000.0</td>\n",
       "      <td>...</td>\n",
       "      <td>13.0</td>\n",
       "      <td>0.0</td>\n",
       "      <td>24584.0</td>\n",
       "      <td>69.8</td>\n",
       "      <td>43.0</td>\n",
       "      <td>f</td>\n",
       "      <td>INDIVIDUAL</td>\n",
       "      <td>1.0</td>\n",
       "      <td>0.0</td>\n",
       "      <td>679 Luna Roads\\nGreggshire, VA 11650</td>\n",
       "    </tr>\n",
       "  </tbody>\n",
       "</table>\n",
       "<p>5 rows × 27 columns</p>\n",
       "</div>"
      ],
      "text/plain": [
       "   loan_amnt        term  int_rate  installment grade sub_grade  \\\n",
       "0    10000.0   36 months     11.44       329.48     B        B4   \n",
       "1     8000.0   36 months     11.99       265.68     B        B5   \n",
       "2    15600.0   36 months     10.49       506.97     B        B3   \n",
       "3     7200.0   36 months      6.49       220.65     A        A2   \n",
       "4    24375.0   60 months     17.27       609.33     C        C5   \n",
       "\n",
       "                 emp_title emp_length home_ownership  annual_inc  ...  \\\n",
       "0                Marketing  10+ years           RENT    117000.0  ...   \n",
       "1          Credit analyst     4 years       MORTGAGE     65000.0  ...   \n",
       "2             Statistician   < 1 year           RENT     43057.0  ...   \n",
       "3          Client Advocate    6 years           RENT     54000.0  ...   \n",
       "4  Destiny Management Inc.    9 years       MORTGAGE     55000.0  ...   \n",
       "\n",
       "  open_acc pub_rec revol_bal revol_util total_acc  initial_list_status  \\\n",
       "0     16.0     0.0   36369.0       41.8      25.0                    w   \n",
       "1     17.0     0.0   20131.0       53.3      27.0                    f   \n",
       "2     13.0     0.0   11987.0       92.2      26.0                    f   \n",
       "3      6.0     0.0    5472.0       21.5      13.0                    f   \n",
       "4     13.0     0.0   24584.0       69.8      43.0                    f   \n",
       "\n",
       "  application_type  mort_acc  pub_rec_bankruptcies  \\\n",
       "0       INDIVIDUAL       0.0                   0.0   \n",
       "1       INDIVIDUAL       3.0                   0.0   \n",
       "2       INDIVIDUAL       0.0                   0.0   \n",
       "3       INDIVIDUAL       0.0                   0.0   \n",
       "4       INDIVIDUAL       1.0                   0.0   \n",
       "\n",
       "                                           address  \n",
       "0     0174 Michelle Gateway\\nMendozaberg, OK 22690  \n",
       "1  1076 Carney Fort Apt. 347\\nLoganmouth, SD 05113  \n",
       "2  87025 Mark Dale Apt. 269\\nNew Sabrina, WV 05113  \n",
       "3            823 Reid Ford\\nDelacruzside, MA 00813  \n",
       "4             679 Luna Roads\\nGreggshire, VA 11650  \n",
       "\n",
       "[5 rows x 27 columns]"
      ]
     },
     "execution_count": 3,
     "metadata": {},
     "output_type": "execute_result"
    }
   ],
   "source": [
    "# load in working data\n",
    "loan_data = pd.read_csv('lending_club_loan_two.csv')\n",
    "loan_data.head()"
   ]
  },
  {
   "cell_type": "code",
   "execution_count": 4,
   "metadata": {
    "scrolled": false
   },
   "outputs": [
    {
     "name": "stdout",
     "output_type": "stream",
     "text": [
      "<class 'pandas.core.frame.DataFrame'>\n",
      "RangeIndex: 396030 entries, 0 to 396029\n",
      "Data columns (total 27 columns):\n",
      " #   Column                Non-Null Count   Dtype  \n",
      "---  ------                --------------   -----  \n",
      " 0   loan_amnt             396030 non-null  float64\n",
      " 1   term                  396030 non-null  object \n",
      " 2   int_rate              396030 non-null  float64\n",
      " 3   installment           396030 non-null  float64\n",
      " 4   grade                 396030 non-null  object \n",
      " 5   sub_grade             396030 non-null  object \n",
      " 6   emp_title             373103 non-null  object \n",
      " 7   emp_length            377729 non-null  object \n",
      " 8   home_ownership        396030 non-null  object \n",
      " 9   annual_inc            396030 non-null  float64\n",
      " 10  verification_status   396030 non-null  object \n",
      " 11  issue_d               396030 non-null  object \n",
      " 12  loan_status           396030 non-null  object \n",
      " 13  purpose               396030 non-null  object \n",
      " 14  title                 394275 non-null  object \n",
      " 15  dti                   396030 non-null  float64\n",
      " 16  earliest_cr_line      396030 non-null  object \n",
      " 17  open_acc              396030 non-null  float64\n",
      " 18  pub_rec               396030 non-null  float64\n",
      " 19  revol_bal             396030 non-null  float64\n",
      " 20  revol_util            395754 non-null  float64\n",
      " 21  total_acc             396030 non-null  float64\n",
      " 22  initial_list_status   396030 non-null  object \n",
      " 23  application_type      396030 non-null  object \n",
      " 24  mort_acc              358235 non-null  float64\n",
      " 25  pub_rec_bankruptcies  395495 non-null  float64\n",
      " 26  address               396030 non-null  object \n",
      "dtypes: float64(12), object(15)\n",
      "memory usage: 81.6+ MB\n"
     ]
    }
   ],
   "source": [
    "loan_data.info()"
   ]
  },
  {
   "cell_type": "markdown",
   "metadata": {},
   "source": [
    "Note that there is missing data that will have to be dealt with."
   ]
  },
  {
   "cell_type": "markdown",
   "metadata": {},
   "source": [
    "## Exploratory Data Analysis"
   ]
  },
  {
   "cell_type": "code",
   "execution_count": 5,
   "metadata": {},
   "outputs": [
    {
     "data": {
      "text/plain": [
       "Text(0.5, 1.0, 'Loan Status Count')"
      ]
     },
     "execution_count": 5,
     "metadata": {},
     "output_type": "execute_result"
    },
    {
     "data": {
      "image/png": "[encoded data removed]",
      "text/plain": [
       "<Figure size 432x288 with 1 Axes>"
      ]
     },
     "metadata": {},
     "output_type": "display_data"
    }
   ],
   "source": [
    "sns.countplot(data=loan_data, x='loan_status', alpha=0.8)\n",
    "plt.title('Loan Status Count')"
   ]
  },
  {
   "cell_type": "markdown",
   "metadata": {},
   "source": [
    "The majority of the loans are fully paid off but there is still a decent amount (approx 25%) that were charged/written off. Overall the data is imbalanced towards fully paid loans."
   ]
  },
  {
   "cell_type": "code",
   "execution_count": 6,
   "metadata": {},
   "outputs": [
    {
     "data": {
      "text/plain": [
       "Text(0.5, 1.0, 'Distribution of Loan Amount')"
      ]
     },
     "execution_count": 6,
     "metadata": {},
     "output_type": "execute_result"
    },
    {
     "data": {
      "image/png": "[encoded data removed]",
      "text/plain": [
       "<Figure size 864x360 with 1 Axes>"
      ]
     },
     "metadata": {},
     "output_type": "display_data"
    }
   ],
   "source": [
    "plt.figure(figsize=(12,5))\n",
    "sns.histplot(data=loan_data, x='loan_amnt', bins=80, alpha=0.7)\n",
    "plt.title('Distribution of Loan Amount')"
   ]
  },
  {
   "cell_type": "markdown",
   "metadata": {},
   "source": [
    "The majority of the loan amounts fall around 10k. There are spikes at amounts divisible be 5k which would make sense as you would useually request an even loan amount. There looks to be one large amount at 40k."
   ]
  },
  {
   "cell_type": "code",
   "execution_count": 7,
   "metadata": {},
   "outputs": [
    {
     "data": {
      "text/html": [
       "<div>\n",
       "<style scoped>\n",
       "    .dataframe tbody tr th:only-of-type {\n",
       "        vertical-align: middle;\n",
       "    }\n",
       "\n",
       "    .dataframe tbody tr th {\n",
       "        vertical-align: top;\n",
       "    }\n",
       "\n",
       "    .dataframe thead th {\n",
       "        text-align: right;\n",
       "    }\n",
       "</style>\n",
       "<table border=\"1\" class=\"dataframe\">\n",
       "  <thead>\n",
       "    <tr style=\"text-align: right;\">\n",
       "      <th></th>\n",
       "      <th>loan_amnt</th>\n",
       "      <th>int_rate</th>\n",
       "      <th>installment</th>\n",
       "      <th>annual_inc</th>\n",
       "      <th>dti</th>\n",
       "      <th>open_acc</th>\n",
       "      <th>pub_rec</th>\n",
       "      <th>revol_bal</th>\n",
       "      <th>revol_util</th>\n",
       "      <th>total_acc</th>\n",
       "      <th>mort_acc</th>\n",
       "      <th>pub_rec_bankruptcies</th>\n",
       "    </tr>\n",
       "  </thead>\n",
       "  <tbody>\n",
       "    <tr>\n",
       "      <th>loan_amnt</th>\n",
       "      <td>1.000000</td>\n",
       "      <td>0.168921</td>\n",
       "      <td>0.953929</td>\n",
       "      <td>0.336887</td>\n",
       "      <td>0.016636</td>\n",
       "      <td>0.198556</td>\n",
       "      <td>-0.077779</td>\n",
       "      <td>0.328320</td>\n",
       "      <td>0.099911</td>\n",
       "      <td>0.223886</td>\n",
       "      <td>0.222315</td>\n",
       "      <td>-0.106539</td>\n",
       "    </tr>\n",
       "    <tr>\n",
       "      <th>int_rate</th>\n",
       "      <td>0.168921</td>\n",
       "      <td>1.000000</td>\n",
       "      <td>0.162758</td>\n",
       "      <td>-0.056771</td>\n",
       "      <td>0.079038</td>\n",
       "      <td>0.011649</td>\n",
       "      <td>0.060986</td>\n",
       "      <td>-0.011280</td>\n",
       "      <td>0.293659</td>\n",
       "      <td>-0.036404</td>\n",
       "      <td>-0.082583</td>\n",
       "      <td>0.057450</td>\n",
       "    </tr>\n",
       "    <tr>\n",
       "      <th>installment</th>\n",
       "      <td>0.953929</td>\n",
       "      <td>0.162758</td>\n",
       "      <td>1.000000</td>\n",
       "      <td>0.330381</td>\n",
       "      <td>0.015786</td>\n",
       "      <td>0.188973</td>\n",
       "      <td>-0.067892</td>\n",
       "      <td>0.316455</td>\n",
       "      <td>0.123915</td>\n",
       "      <td>0.202430</td>\n",
       "      <td>0.193694</td>\n",
       "      <td>-0.098628</td>\n",
       "    </tr>\n",
       "    <tr>\n",
       "      <th>annual_inc</th>\n",
       "      <td>0.336887</td>\n",
       "      <td>-0.056771</td>\n",
       "      <td>0.330381</td>\n",
       "      <td>1.000000</td>\n",
       "      <td>-0.081685</td>\n",
       "      <td>0.136150</td>\n",
       "      <td>-0.013720</td>\n",
       "      <td>0.299773</td>\n",
       "      <td>0.027871</td>\n",
       "      <td>0.193023</td>\n",
       "      <td>0.236320</td>\n",
       "      <td>-0.050162</td>\n",
       "    </tr>\n",
       "    <tr>\n",
       "      <th>dti</th>\n",
       "      <td>0.016636</td>\n",
       "      <td>0.079038</td>\n",
       "      <td>0.015786</td>\n",
       "      <td>-0.081685</td>\n",
       "      <td>1.000000</td>\n",
       "      <td>0.136181</td>\n",
       "      <td>-0.017639</td>\n",
       "      <td>0.063571</td>\n",
       "      <td>0.088375</td>\n",
       "      <td>0.102128</td>\n",
       "      <td>-0.025439</td>\n",
       "      <td>-0.014558</td>\n",
       "    </tr>\n",
       "    <tr>\n",
       "      <th>open_acc</th>\n",
       "      <td>0.198556</td>\n",
       "      <td>0.011649</td>\n",
       "      <td>0.188973</td>\n",
       "      <td>0.136150</td>\n",
       "      <td>0.136181</td>\n",
       "      <td>1.000000</td>\n",
       "      <td>-0.018392</td>\n",
       "      <td>0.221192</td>\n",
       "      <td>-0.131420</td>\n",
       "      <td>0.680728</td>\n",
       "      <td>0.109205</td>\n",
       "      <td>-0.027732</td>\n",
       "    </tr>\n",
       "    <tr>\n",
       "      <th>pub_rec</th>\n",
       "      <td>-0.077779</td>\n",
       "      <td>0.060986</td>\n",
       "      <td>-0.067892</td>\n",
       "      <td>-0.013720</td>\n",
       "      <td>-0.017639</td>\n",
       "      <td>-0.018392</td>\n",
       "      <td>1.000000</td>\n",
       "      <td>-0.101664</td>\n",
       "      <td>-0.075910</td>\n",
       "      <td>0.019723</td>\n",
       "      <td>0.011552</td>\n",
       "      <td>0.699408</td>\n",
       "    </tr>\n",
       "    <tr>\n",
       "      <th>revol_bal</th>\n",
       "      <td>0.328320</td>\n",
       "      <td>-0.011280</td>\n",
       "      <td>0.316455</td>\n",
       "      <td>0.299773</td>\n",
       "      <td>0.063571</td>\n",
       "      <td>0.221192</td>\n",
       "      <td>-0.101664</td>\n",
       "      <td>1.000000</td>\n",
       "      <td>0.226346</td>\n",
       "      <td>0.191616</td>\n",
       "      <td>0.194925</td>\n",
       "      <td>-0.124532</td>\n",
       "    </tr>\n",
       "    <tr>\n",
       "      <th>revol_util</th>\n",
       "      <td>0.099911</td>\n",
       "      <td>0.293659</td>\n",
       "      <td>0.123915</td>\n",
       "      <td>0.027871</td>\n",
       "      <td>0.088375</td>\n",
       "      <td>-0.131420</td>\n",
       "      <td>-0.075910</td>\n",
       "      <td>0.226346</td>\n",
       "      <td>1.000000</td>\n",
       "      <td>-0.104273</td>\n",
       "      <td>0.007514</td>\n",
       "      <td>-0.086751</td>\n",
       "    </tr>\n",
       "    <tr>\n",
       "      <th>total_acc</th>\n",
       "      <td>0.223886</td>\n",
       "      <td>-0.036404</td>\n",
       "      <td>0.202430</td>\n",
       "      <td>0.193023</td>\n",
       "      <td>0.102128</td>\n",
       "      <td>0.680728</td>\n",
       "      <td>0.019723</td>\n",
       "      <td>0.191616</td>\n",
       "      <td>-0.104273</td>\n",
       "      <td>1.000000</td>\n",
       "      <td>0.381072</td>\n",
       "      <td>0.042035</td>\n",
       "    </tr>\n",
       "    <tr>\n",
       "      <th>mort_acc</th>\n",
       "      <td>0.222315</td>\n",
       "      <td>-0.082583</td>\n",
       "      <td>0.193694</td>\n",
       "      <td>0.236320</td>\n",
       "      <td>-0.025439</td>\n",
       "      <td>0.109205</td>\n",
       "      <td>0.011552</td>\n",
       "      <td>0.194925</td>\n",
       "      <td>0.007514</td>\n",
       "      <td>0.381072</td>\n",
       "      <td>1.000000</td>\n",
       "      <td>0.027239</td>\n",
       "    </tr>\n",
       "    <tr>\n",
       "      <th>pub_rec_bankruptcies</th>\n",
       "      <td>-0.106539</td>\n",
       "      <td>0.057450</td>\n",
       "      <td>-0.098628</td>\n",
       "      <td>-0.050162</td>\n",
       "      <td>-0.014558</td>\n",
       "      <td>-0.027732</td>\n",
       "      <td>0.699408</td>\n",
       "      <td>-0.124532</td>\n",
       "      <td>-0.086751</td>\n",
       "      <td>0.042035</td>\n",
       "      <td>0.027239</td>\n",
       "      <td>1.000000</td>\n",
       "    </tr>\n",
       "  </tbody>\n",
       "</table>\n",
       "</div>"
      ],
      "text/plain": [
       "                      loan_amnt  int_rate  installment  annual_inc       dti  \\\n",
       "loan_amnt              1.000000  0.168921     0.953929    0.336887  0.016636   \n",
       "int_rate               0.168921  1.000000     0.162758   -0.056771  0.079038   \n",
       "installment            0.953929  0.162758     1.000000    0.330381  0.015786   \n",
       "annual_inc             0.336887 -0.056771     0.330381    1.000000 -0.081685   \n",
       "dti                    0.016636  0.079038     0.015786   -0.081685  1.000000   \n",
       "open_acc               0.198556  0.011649     0.188973    0.136150  0.136181   \n",
       "pub_rec               -0.077779  0.060986    -0.067892   -0.013720 -0.017639   \n",
       "revol_bal              0.328320 -0.011280     0.316455    0.299773  0.063571   \n",
       "revol_util             0.099911  0.293659     0.123915    0.027871  0.088375   \n",
       "total_acc              0.223886 -0.036404     0.202430    0.193023  0.102128   \n",
       "mort_acc               0.222315 -0.082583     0.193694    0.236320 -0.025439   \n",
       "pub_rec_bankruptcies  -0.106539  0.057450    -0.098628   -0.050162 -0.014558   \n",
       "\n",
       "                      open_acc   pub_rec  revol_bal  revol_util  total_acc  \\\n",
       "loan_amnt             0.198556 -0.077779   0.328320    0.099911   0.223886   \n",
       "int_rate              0.011649  0.060986  -0.011280    0.293659  -0.036404   \n",
       "installment           0.188973 -0.067892   0.316455    0.123915   0.202430   \n",
       "annual_inc            0.136150 -0.013720   0.299773    0.027871   0.193023   \n",
       "dti                   0.136181 -0.017639   0.063571    0.088375   0.102128   \n",
       "open_acc              1.000000 -0.018392   0.221192   -0.131420   0.680728   \n",
       "pub_rec              -0.018392  1.000000  -0.101664   -0.075910   0.019723   \n",
       "revol_bal             0.221192 -0.101664   1.000000    0.226346   0.191616   \n",
       "revol_util           -0.131420 -0.075910   0.226346    1.000000  -0.104273   \n",
       "total_acc             0.680728  0.019723   0.191616   -0.104273   1.000000   \n",
       "mort_acc              0.109205  0.011552   0.194925    0.007514   0.381072   \n",
       "pub_rec_bankruptcies -0.027732  0.699408  -0.124532   -0.086751   0.042035   \n",
       "\n",
       "                      mort_acc  pub_rec_bankruptcies  \n",
       "loan_amnt             0.222315             -0.106539  \n",
       "int_rate             -0.082583              0.057450  \n",
       "installment           0.193694             -0.098628  \n",
       "annual_inc            0.236320             -0.050162  \n",
       "dti                  -0.025439             -0.014558  \n",
       "open_acc              0.109205             -0.027732  \n",
       "pub_rec               0.011552              0.699408  \n",
       "revol_bal             0.194925             -0.124532  \n",
       "revol_util            0.007514             -0.086751  \n",
       "total_acc             0.381072              0.042035  \n",
       "mort_acc              1.000000              0.027239  \n",
       "pub_rec_bankruptcies  0.027239              1.000000  "
      ]
     },
     "execution_count": 7,
     "metadata": {},
     "output_type": "execute_result"
    }
   ],
   "source": [
    "loan_data.corr()"
   ]
  },
  {
   "cell_type": "code",
   "execution_count": 8,
   "metadata": {},
   "outputs": [
    {
     "data": {
      "text/plain": [
       "Text(0.5, 1.0, 'Feature Correlations')"
      ]
     },
     "execution_count": 8,
     "metadata": {},
     "output_type": "execute_result"
    },
    {
     "data": {
      "image/png": "[encoded data removed]",
      "text/plain": [
       "<Figure size 720x576 with 2 Axes>"
      ]
     },
     "metadata": {},
     "output_type": "display_data"
    }
   ],
   "source": [
    "plt.figure(figsize=(10,8))\n",
    "sns.heatmap(loan_data.corr(), cmap='Blues', annot=True)\n",
    "plt.title('Feature Correlations')"
   ]
  },
  {
   "cell_type": "code",
   "execution_count": 9,
   "metadata": {},
   "outputs": [
    {
     "name": "stdout",
     "output_type": "stream",
     "text": [
      "installment :  The monthly payment owed by the borrower if the loan originates.\n",
      "total_acc :  The total number of credit lines currently in the borrower's credit file\n",
      "open_acc :  The number of open credit lines in the borrower's credit file.\n",
      "pub_rec :  Number of derogatory public records\n",
      "pub_rec_bankruptcies :  Number of public record bankruptcies\n"
     ]
    }
   ],
   "source": [
    "feat_info('installment')\n",
    "feat_info('total_acc')\n",
    "feat_info('open_acc')\n",
    "feat_info('pub_rec')\n",
    "feat_info('pub_rec_bankruptcies')"
   ]
  },
  {
   "cell_type": "markdown",
   "metadata": {},
   "source": [
    "There seems to be near perfect correlation between loan_amnt and installment. This would make sense as the installment amount is dependent on how much the loan is. Since these features are so highly correlated, one of the features should be removed from the model.    \n",
    "There is also high correlation between:    \n",
    "total_acc and open_acc    \n",
    "pub_rec_bankruptcies and pub_rec"
   ]
  },
  {
   "cell_type": "code",
   "execution_count": 10,
   "metadata": {},
   "outputs": [
    {
     "data": {
      "text/plain": [
       "Text(0.5, 1.0, 'Loan Amount vs Installment')"
      ]
     },
     "execution_count": 10,
     "metadata": {},
     "output_type": "execute_result"
    },
    {
     "data": {
      "image/png": "[encoded data removed]",
      "text/plain": [
       "<Figure size 432x288 with 1 Axes>"
      ]
     },
     "metadata": {},
     "output_type": "display_data"
    }
   ],
   "source": [
    "sns.scatterplot(data=loan_data, x='installment', y='loan_amnt')\n",
    "plt.title('Loan Amount vs Installment')"
   ]
  },
  {
   "cell_type": "markdown",
   "metadata": {},
   "source": [
    "As the loan amount increases, the range of installments also increases with the overall trend of greater installments. The larger range is probably dependent on the term of the policy as well. A longer term for a loan would result in lower installments."
   ]
  },
  {
   "cell_type": "code",
   "execution_count": 11,
   "metadata": {},
   "outputs": [
    {
     "data": {
      "text/plain": [
       "Text(0.5, 1.0, 'Loan Amount by Loan Status')"
      ]
     },
     "execution_count": 11,
     "metadata": {},
     "output_type": "execute_result"
    },
    {
     "data": {
      "image/png": "[encoded data removed]",
      "text/plain": [
       "<Figure size 432x288 with 1 Axes>"
      ]
     },
     "metadata": {},
     "output_type": "display_data"
    }
   ],
   "source": [
    "sns.boxplot(data=loan_data, x='loan_status', y='loan_amnt')\n",
    "plt.title('Loan Amount by Loan Status')"
   ]
  },
  {
   "cell_type": "markdown",
   "metadata": {},
   "source": [
    "There is similar distribution of loan amounts between fully paid and charged off loans. Charged off loans are slightly higher in loan amounts."
   ]
  },
  {
   "cell_type": "code",
   "execution_count": 12,
   "metadata": {},
   "outputs": [
    {
     "name": "stdout",
     "output_type": "stream",
     "text": [
      "Statistics by Loan Status:\n"
     ]
    },
    {
     "data": {
      "text/html": [
       "<div>\n",
       "<style scoped>\n",
       "    .dataframe tbody tr th:only-of-type {\n",
       "        vertical-align: middle;\n",
       "    }\n",
       "\n",
       "    .dataframe tbody tr th {\n",
       "        vertical-align: top;\n",
       "    }\n",
       "\n",
       "    .dataframe thead th {\n",
       "        text-align: right;\n",
       "    }\n",
       "</style>\n",
       "<table border=\"1\" class=\"dataframe\">\n",
       "  <thead>\n",
       "    <tr style=\"text-align: right;\">\n",
       "      <th></th>\n",
       "      <th>count</th>\n",
       "      <th>mean</th>\n",
       "      <th>std</th>\n",
       "      <th>min</th>\n",
       "      <th>25%</th>\n",
       "      <th>50%</th>\n",
       "      <th>75%</th>\n",
       "      <th>max</th>\n",
       "    </tr>\n",
       "    <tr>\n",
       "      <th>loan_status</th>\n",
       "      <th></th>\n",
       "      <th></th>\n",
       "      <th></th>\n",
       "      <th></th>\n",
       "      <th></th>\n",
       "      <th></th>\n",
       "      <th></th>\n",
       "      <th></th>\n",
       "    </tr>\n",
       "  </thead>\n",
       "  <tbody>\n",
       "    <tr>\n",
       "      <th>Charged Off</th>\n",
       "      <td>77673.0</td>\n",
       "      <td>15126.300967</td>\n",
       "      <td>8505.090557</td>\n",
       "      <td>1000.0</td>\n",
       "      <td>8525.0</td>\n",
       "      <td>14000.0</td>\n",
       "      <td>20000.0</td>\n",
       "      <td>40000.0</td>\n",
       "    </tr>\n",
       "    <tr>\n",
       "      <th>Fully Paid</th>\n",
       "      <td>318357.0</td>\n",
       "      <td>13866.878771</td>\n",
       "      <td>8302.319699</td>\n",
       "      <td>500.0</td>\n",
       "      <td>7500.0</td>\n",
       "      <td>12000.0</td>\n",
       "      <td>19225.0</td>\n",
       "      <td>40000.0</td>\n",
       "    </tr>\n",
       "  </tbody>\n",
       "</table>\n",
       "</div>"
      ],
      "text/plain": [
       "                count          mean          std     min     25%      50%  \\\n",
       "loan_status                                                                 \n",
       "Charged Off   77673.0  15126.300967  8505.090557  1000.0  8525.0  14000.0   \n",
       "Fully Paid   318357.0  13866.878771  8302.319699   500.0  7500.0  12000.0   \n",
       "\n",
       "                 75%      max  \n",
       "loan_status                    \n",
       "Charged Off  20000.0  40000.0  \n",
       "Fully Paid   19225.0  40000.0  "
      ]
     },
     "execution_count": 12,
     "metadata": {},
     "output_type": "execute_result"
    }
   ],
   "source": [
    "print('Statistics by Loan Status:')\n",
    "loan_data.groupby('loan_status')['loan_amnt'].describe()"
   ]
  },
  {
   "cell_type": "markdown",
   "metadata": {},
   "source": [
    "I'll now analyze the grade and sub_grade features."
   ]
  },
  {
   "cell_type": "code",
   "execution_count": 13,
   "metadata": {},
   "outputs": [
    {
     "name": "stdout",
     "output_type": "stream",
     "text": [
      "grade :  LC assigned loan grade\n",
      "sub_grade :  LC assigned loan subgrade\n"
     ]
    }
   ],
   "source": [
    "feat_info('grade')\n",
    "feat_info('sub_grade')"
   ]
  },
  {
   "cell_type": "code",
   "execution_count": 14,
   "metadata": {},
   "outputs": [
    {
     "data": {
      "text/plain": [
       "array(['B', 'A', 'C', 'E', 'D', 'F', 'G'], dtype=object)"
      ]
     },
     "execution_count": 14,
     "metadata": {},
     "output_type": "execute_result"
    }
   ],
   "source": [
    "# unique grade values\n",
    "loan_data['grade'].unique()"
   ]
  },
  {
   "cell_type": "code",
   "execution_count": 15,
   "metadata": {},
   "outputs": [
    {
     "data": {
      "text/plain": [
       "array(['B4', 'B5', 'B3', 'A2', 'C5', 'C3', 'A1', 'B2', 'C1', 'A5', 'E4',\n",
       "       'A4', 'A3', 'D1', 'C2', 'B1', 'D3', 'D5', 'D2', 'E1', 'E2', 'E5',\n",
       "       'F4', 'E3', 'D4', 'G1', 'F5', 'G2', 'C4', 'F1', 'F3', 'G5', 'G4',\n",
       "       'F2', 'G3'], dtype=object)"
      ]
     },
     "execution_count": 15,
     "metadata": {},
     "output_type": "execute_result"
    }
   ],
   "source": [
    "# unique sub_grade values\n",
    "loan_data['sub_grade'].unique()"
   ]
  },
  {
   "cell_type": "code",
   "execution_count": 16,
   "metadata": {},
   "outputs": [],
   "source": [
    "# sort unique values\n",
    "grade_order = sorted(loan_data['grade'].unique())\n",
    "subgrade_order = sorted(loan_data['sub_grade'].unique())"
   ]
  },
  {
   "cell_type": "code",
   "execution_count": 17,
   "metadata": {},
   "outputs": [
    {
     "data": {
      "text/plain": [
       "Text(0.5, 1.0, 'Count of Grade by Loan Status')"
      ]
     },
     "execution_count": 17,
     "metadata": {},
     "output_type": "execute_result"
    },
    {
     "data": {
      "image/png": "[encoded data removed]",
      "text/plain": [
       "<Figure size 576x360 with 1 Axes>"
      ]
     },
     "metadata": {},
     "output_type": "display_data"
    }
   ],
   "source": [
    "plt.figure(figsize=(8,5))\n",
    "sns.countplot(data=loan_data, x='grade', hue='loan_status', order=grade_order, alpha=0.8)\n",
    "plt.title('Count of Grade by Loan Status')"
   ]
  },
  {
   "cell_type": "markdown",
   "metadata": {},
   "source": [
    "As the grade gets lower, the proportion of charged off loans to fully paid loans increases. As grade is likely a measure of risk, this would make sense that the lower a grade a borrower has, the less likely they are to repay their loan in full."
   ]
  },
  {
   "cell_type": "code",
   "execution_count": 18,
   "metadata": {},
   "outputs": [
    {
     "data": {
      "text/plain": [
       "Text(0.5, 1.0, 'Count of Sub Grades')"
      ]
     },
     "execution_count": 18,
     "metadata": {},
     "output_type": "execute_result"
    },
    {
     "data": {
      "image/png": "[encoded data removed]",
      "text/plain": [
       "<Figure size 864x360 with 1 Axes>"
      ]
     },
     "metadata": {},
     "output_type": "display_data"
    }
   ],
   "source": [
    "plt.figure(figsize=(12,5))\n",
    "sns.countplot(data=loan_data, x='sub_grade', order=subgrade_order, palette='coolwarm')\n",
    "plt.title('Count of Sub Grades')"
   ]
  },
  {
   "cell_type": "markdown",
   "metadata": {},
   "source": [
    "Most grades fall in the B range."
   ]
  },
  {
   "cell_type": "code",
   "execution_count": 19,
   "metadata": {},
   "outputs": [
    {
     "data": {
      "text/plain": [
       "Text(0.5, 1.0, 'Count of Sub Grades by Loan Status')"
      ]
     },
     "execution_count": 19,
     "metadata": {},
     "output_type": "execute_result"
    },
    {
     "data": {
      "image/png": "[encoded data removed]",
      "text/plain": [
       "<Figure size 864x360 with 1 Axes>"
      ]
     },
     "metadata": {},
     "output_type": "display_data"
    }
   ],
   "source": [
    "plt.figure(figsize=(12,5))\n",
    "sns.countplot(data=loan_data, x='sub_grade', order=subgrade_order, \n",
    "              palette='coolwarm', hue='loan_status')\n",
    "plt.title('Count of Sub Grades by Loan Status')"
   ]
  },
  {
   "cell_type": "markdown",
   "metadata": {},
   "source": [
    "It looks like the proportion of F and G subgrades proportionally do not get paid back as often as the higher sub grades as mentioned before so I'll take a closer look into these loans."
   ]
  },
  {
   "cell_type": "code",
   "execution_count": 20,
   "metadata": {},
   "outputs": [
    {
     "data": {
      "text/plain": [
       "Text(0.5, 1.0, 'Count of Low Sub Grades by Loan Status')"
      ]
     },
     "execution_count": 20,
     "metadata": {},
     "output_type": "execute_result"
    },
    {
     "data": {
      "image/png": "[encoded data removed]",
      "text/plain": [
       "<Figure size 864x360 with 1 Axes>"
      ]
     },
     "metadata": {},
     "output_type": "display_data"
    }
   ],
   "source": [
    "# define low_grades df as F and G grades\n",
    "low_grades = loan_data[(loan_data['grade'] == 'F') | (loan_data['grade'] == 'G')]\n",
    "# sort the low grades data\n",
    "subgrade_order = sorted(low_grades['sub_grade'].unique())\n",
    "\n",
    "plt.figure(figsize=(12,5))\n",
    "sns.countplot(data=low_grades, x='sub_grade', order=subgrade_order, \n",
    "              hue='loan_status')\n",
    "plt.title('Count of Low Sub Grades by Loan Status')"
   ]
  },
  {
   "cell_type": "code",
   "execution_count": 21,
   "metadata": {},
   "outputs": [],
   "source": [
    "def loan_repaid(loan_status):\n",
    "    \"\"\"\n",
    "    Return boolean value for Fully Paid given loan_status.\n",
    "    \"\"\"    \n",
    "    if loan_status == 'Fully Paid':\n",
    "        return 1\n",
    "    else:\n",
    "        return 0\n",
    "\n",
    "loan_data['loan_repaid'] = loan_data['loan_status'].apply(loan_repaid)"
   ]
  },
  {
   "cell_type": "code",
   "execution_count": 22,
   "metadata": {},
   "outputs": [
    {
     "data": {
      "text/plain": [
       "Text(0, 0.5, 'Correlation')"
      ]
     },
     "execution_count": 22,
     "metadata": {},
     "output_type": "execute_result"
    },
    {
     "data": {
      "image/png": "[encoded data removed]",
      "text/plain": [
       "<Figure size 576x288 with 1 Axes>"
      ]
     },
     "metadata": {},
     "output_type": "display_data"
    }
   ],
   "source": [
    "plt.figure(figsize=(8,4))\n",
    "loan_data.corr()['loan_repaid'].sort_values().drop('loan_repaid').plot(kind='bar')\n",
    "plt.title('Correlations to Loan Repaid')\n",
    "plt.xlabel('Features')\n",
    "plt.ylabel('Correlation')"
   ]
  },
  {
   "cell_type": "markdown",
   "metadata": {},
   "source": [
    "The highest absolute correlation to loan repaid is int_rate. Interest rate is inversely correlated to if a loan was repaid or not. "
   ]
  },
  {
   "cell_type": "markdown",
   "metadata": {},
   "source": [
    "## Data Preprocessing\n",
    "### Missing Data\n",
    "Look at each column with missing data and decide on whether to remove the feature from the model or replace the missing data."
   ]
  },
  {
   "cell_type": "code",
   "execution_count": 23,
   "metadata": {},
   "outputs": [
    {
     "name": "stdout",
     "output_type": "stream",
     "text": [
      "rows, columns =  (396030, 28)\n"
     ]
    }
   ],
   "source": [
    "print('rows, columns = ', loan_data.shape)"
   ]
  },
  {
   "cell_type": "code",
   "execution_count": 24,
   "metadata": {},
   "outputs": [
    {
     "name": "stdout",
     "output_type": "stream",
     "text": [
      "Count of Null Values:\n"
     ]
    },
    {
     "data": {
      "text/plain": [
       "mort_acc                37795\n",
       "emp_title               22927\n",
       "emp_length              18301\n",
       "title                    1755\n",
       "pub_rec_bankruptcies      535\n",
       "revol_util                276\n",
       "dti                         0\n",
       "address                     0\n",
       "application_type            0\n",
       "initial_list_status         0\n",
       "total_acc                   0\n",
       "revol_bal                   0\n",
       "pub_rec                     0\n",
       "open_acc                    0\n",
       "earliest_cr_line            0\n",
       "loan_amnt                   0\n",
       "term                        0\n",
       "purpose                     0\n",
       "loan_status                 0\n",
       "issue_d                     0\n",
       "verification_status         0\n",
       "annual_inc                  0\n",
       "home_ownership              0\n",
       "sub_grade                   0\n",
       "grade                       0\n",
       "installment                 0\n",
       "int_rate                    0\n",
       "loan_repaid                 0\n",
       "dtype: int64"
      ]
     },
     "execution_count": 24,
     "metadata": {},
     "output_type": "execute_result"
    }
   ],
   "source": [
    "print('Count of Null Values:')\n",
    "loan_data.isnull().sum().sort_values(ascending=False)"
   ]
  },
  {
   "cell_type": "code",
   "execution_count": 25,
   "metadata": {},
   "outputs": [
    {
     "name": "stdout",
     "output_type": "stream",
     "text": [
      "Percentage of Null Values:\n"
     ]
    },
    {
     "data": {
      "text/plain": [
       "mort_acc                9.543469\n",
       "emp_title               5.789208\n",
       "emp_length              4.621115\n",
       "title                   0.443148\n",
       "pub_rec_bankruptcies    0.135091\n",
       "revol_util              0.069692\n",
       "dti                     0.000000\n",
       "address                 0.000000\n",
       "application_type        0.000000\n",
       "initial_list_status     0.000000\n",
       "total_acc               0.000000\n",
       "revol_bal               0.000000\n",
       "pub_rec                 0.000000\n",
       "open_acc                0.000000\n",
       "earliest_cr_line        0.000000\n",
       "loan_amnt               0.000000\n",
       "term                    0.000000\n",
       "purpose                 0.000000\n",
       "loan_status             0.000000\n",
       "issue_d                 0.000000\n",
       "verification_status     0.000000\n",
       "annual_inc              0.000000\n",
       "home_ownership          0.000000\n",
       "sub_grade               0.000000\n",
       "grade                   0.000000\n",
       "installment             0.000000\n",
       "int_rate                0.000000\n",
       "loan_repaid             0.000000\n",
       "dtype: float64"
      ]
     },
     "execution_count": 25,
     "metadata": {},
     "output_type": "execute_result"
    }
   ],
   "source": [
    "print('Percentage of Null Values:')\n",
    "loan_data.isnull().sum().sort_values(ascending=False)/len(loan_data)*100"
   ]
  },
  {
   "cell_type": "markdown",
   "metadata": {},
   "source": [
    "#### emp_title"
   ]
  },
  {
   "cell_type": "code",
   "execution_count": 26,
   "metadata": {},
   "outputs": [
    {
     "name": "stdout",
     "output_type": "stream",
     "text": [
      "emp_title :  The job title supplied by the Borrower when applying for the loan.*\n"
     ]
    }
   ],
   "source": [
    "feat_info('emp_title')"
   ]
  },
  {
   "cell_type": "code",
   "execution_count": 27,
   "metadata": {},
   "outputs": [
    {
     "name": "stdout",
     "output_type": "stream",
     "text": [
      "Number of missing data points:  22927\n"
     ]
    }
   ],
   "source": [
    "print('Number of missing data points: ', loan_data['emp_title'].isnull().sum())"
   ]
  },
  {
   "cell_type": "code",
   "execution_count": 28,
   "metadata": {},
   "outputs": [
    {
     "name": "stdout",
     "output_type": "stream",
     "text": [
      "Count of Unique Titles:  173105\n"
     ]
    }
   ],
   "source": [
    "print('Count of Unique Titles: ', loan_data['emp_title'].nunique())"
   ]
  },
  {
   "cell_type": "code",
   "execution_count": 29,
   "metadata": {},
   "outputs": [
    {
     "name": "stdout",
     "output_type": "stream",
     "text": [
      "Count of Each Title:\n"
     ]
    },
    {
     "data": {
      "text/plain": [
       "Teacher                           4389\n",
       "Manager                           4250\n",
       "Registered Nurse                  1856\n",
       "RN                                1846\n",
       "Supervisor                        1830\n",
       "                                  ... \n",
       "Culinary Arts Teacher                1\n",
       "Yrc freight                          1\n",
       "registered nnurse                    1\n",
       "Elevator Texhnician                  1\n",
       "San Gorgonio Memorial Hospital       1\n",
       "Name: emp_title, Length: 173105, dtype: int64"
      ]
     },
     "execution_count": 29,
     "metadata": {},
     "output_type": "execute_result"
    }
   ],
   "source": [
    "print('Count of Each Title:')\n",
    "loan_data['emp_title'].value_counts()"
   ]
  },
  {
   "cell_type": "markdown",
   "metadata": {},
   "source": [
    "Since there are too many different job titles as well as missing ones, I will remove this feature."
   ]
  },
  {
   "cell_type": "code",
   "execution_count": 30,
   "metadata": {},
   "outputs": [],
   "source": [
    "# remove emp_title column\n",
    "loan_data = loan_data.drop('emp_title', axis=1)"
   ]
  },
  {
   "cell_type": "markdown",
   "metadata": {},
   "source": [
    "#### emp_length"
   ]
  },
  {
   "cell_type": "code",
   "execution_count": 31,
   "metadata": {},
   "outputs": [
    {
     "name": "stdout",
     "output_type": "stream",
     "text": [
      "emp_length :  Employment length in years. Possible values are between 0 and 10 where 0 means less than one year and 10 means ten or more years. \n"
     ]
    }
   ],
   "source": [
    "feat_info('emp_length')"
   ]
  },
  {
   "cell_type": "code",
   "execution_count": 32,
   "metadata": {},
   "outputs": [
    {
     "name": "stdout",
     "output_type": "stream",
     "text": [
      "Number of missing data points:  18301\n"
     ]
    }
   ],
   "source": [
    "print('Number of missing data points: ', loan_data['emp_length'].isnull().sum())"
   ]
  },
  {
   "cell_type": "code",
   "execution_count": 33,
   "metadata": {},
   "outputs": [
    {
     "name": "stdout",
     "output_type": "stream",
     "text": [
      "Employee Length Categories:\n"
     ]
    },
    {
     "data": {
      "text/plain": [
       "array(['10+ years', '4 years', '< 1 year', '6 years', '9 years',\n",
       "       '2 years', '3 years', '8 years', '7 years', '5 years', '1 year',\n",
       "       nan], dtype=object)"
      ]
     },
     "execution_count": 33,
     "metadata": {},
     "output_type": "execute_result"
    }
   ],
   "source": [
    "print('Employee Length Categories:')\n",
    "loan_data['emp_length'].unique()"
   ]
  },
  {
   "cell_type": "code",
   "execution_count": 34,
   "metadata": {},
   "outputs": [],
   "source": [
    "# order the emp length column to ascending\n",
    "emp_length_order = [ '< 1 year',\n",
    "                      '1 year',\n",
    "                     '2 years',\n",
    "                     '3 years',\n",
    "                     '4 years',\n",
    "                     '5 years',\n",
    "                     '6 years',\n",
    "                     '7 years',\n",
    "                     '8 years',\n",
    "                     '9 years',\n",
    "                     '10+ years']"
   ]
  },
  {
   "cell_type": "code",
   "execution_count": 35,
   "metadata": {},
   "outputs": [
    {
     "data": {
      "text/plain": [
       "Text(0.5, 1.0, 'Count of Employment Length by Loan Status')"
      ]
     },
     "execution_count": 35,
     "metadata": {},
     "output_type": "execute_result"
    },
    {
     "data": {
      "image/png": "[encoded data removed]",
      "text/plain": [
       "<Figure size 864x360 with 1 Axes>"
      ]
     },
     "metadata": {},
     "output_type": "display_data"
    }
   ],
   "source": [
    "plt.figure(figsize=(12,5))\n",
    "sns.countplot(data=loan_data, x='emp_length', hue='loan_status',\n",
    "             order=emp_length_order)\n",
    "plt.title('Count of Employment Length by Loan Status')"
   ]
  },
  {
   "cell_type": "markdown",
   "metadata": {},
   "source": [
    "The proportion of Charged Off to Fully Paid does not really seem to differ between a borrower's employment length. Given this and the fact that 4.6% of the data is missing, let's drop the feature."
   ]
  },
  {
   "cell_type": "code",
   "execution_count": 36,
   "metadata": {},
   "outputs": [],
   "source": [
    "# remove emp_length column\n",
    "loan_data = loan_data.drop('emp_length', axis=1)"
   ]
  },
  {
   "cell_type": "markdown",
   "metadata": {},
   "source": [
    "#### title\n",
    "There seems to be some similarities between the title and purpose columns so I will analyze to see if there is any relationship."
   ]
  },
  {
   "cell_type": "code",
   "execution_count": 37,
   "metadata": {},
   "outputs": [
    {
     "name": "stdout",
     "output_type": "stream",
     "text": [
      "title :  The loan title provided by the borrower\n",
      "purpose :  A category provided by the borrower for the loan request. \n"
     ]
    }
   ],
   "source": [
    "feat_info('title')\n",
    "feat_info('purpose')"
   ]
  },
  {
   "cell_type": "code",
   "execution_count": 38,
   "metadata": {},
   "outputs": [
    {
     "name": "stdout",
     "output_type": "stream",
     "text": [
      "Number of missing data points:  1755\n"
     ]
    }
   ],
   "source": [
    "print('Number of missing data points: ', loan_data['title'].isnull().sum())"
   ]
  },
  {
   "cell_type": "code",
   "execution_count": 39,
   "metadata": {},
   "outputs": [
    {
     "data": {
      "text/plain": [
       "0                        Vacation\n",
       "1              Debt consolidation\n",
       "2         Credit card refinancing\n",
       "3         Credit card refinancing\n",
       "4           Credit Card Refinance\n",
       "                   ...           \n",
       "396025         Debt consolidation\n",
       "396026         Debt consolidation\n",
       "396027       pay off credit cards\n",
       "396028              Loanforpayoff\n",
       "396029          Toxic Debt Payoff\n",
       "Name: title, Length: 396030, dtype: object"
      ]
     },
     "execution_count": 39,
     "metadata": {},
     "output_type": "execute_result"
    }
   ],
   "source": [
    "loan_data['title']"
   ]
  },
  {
   "cell_type": "code",
   "execution_count": 40,
   "metadata": {},
   "outputs": [
    {
     "data": {
      "text/plain": [
       "0                   vacation\n",
       "1         debt_consolidation\n",
       "2                credit_card\n",
       "3                credit_card\n",
       "4                credit_card\n",
       "                 ...        \n",
       "396025    debt_consolidation\n",
       "396026    debt_consolidation\n",
       "396027    debt_consolidation\n",
       "396028    debt_consolidation\n",
       "396029    debt_consolidation\n",
       "Name: purpose, Length: 396030, dtype: object"
      ]
     },
     "execution_count": 40,
     "metadata": {},
     "output_type": "execute_result"
    }
   ],
   "source": [
    "loan_data['purpose']"
   ]
  },
  {
   "cell_type": "markdown",
   "metadata": {},
   "source": [
    "The title column is just a description of the purpose column so it can be removed."
   ]
  },
  {
   "cell_type": "code",
   "execution_count": 41,
   "metadata": {},
   "outputs": [],
   "source": [
    "# remove title column\n",
    "loan_data = loan_data.drop('title', axis=1)"
   ]
  },
  {
   "cell_type": "markdown",
   "metadata": {},
   "source": [
    "#### mort_acc"
   ]
  },
  {
   "cell_type": "code",
   "execution_count": 42,
   "metadata": {},
   "outputs": [
    {
     "name": "stdout",
     "output_type": "stream",
     "text": [
      "mort_acc :  Number of mortgage accounts.\n"
     ]
    }
   ],
   "source": [
    "feat_info('mort_acc')"
   ]
  },
  {
   "cell_type": "code",
   "execution_count": 43,
   "metadata": {},
   "outputs": [
    {
     "name": "stdout",
     "output_type": "stream",
     "text": [
      "Number of missing data points:  37795\n"
     ]
    }
   ],
   "source": [
    "print('Number of missing data points: ', loan_data['mort_acc'].isnull().sum())"
   ]
  },
  {
   "cell_type": "code",
   "execution_count": 44,
   "metadata": {},
   "outputs": [
    {
     "name": "stdout",
     "output_type": "stream",
     "text": [
      "Distribution of Number of Mortgage Accounts:\n"
     ]
    },
    {
     "data": {
      "text/plain": [
       "0.0     139777\n",
       "1.0      60416\n",
       "2.0      49948\n",
       "3.0      38049\n",
       "4.0      27887\n",
       "5.0      18194\n",
       "6.0      11069\n",
       "7.0       6052\n",
       "8.0       3121\n",
       "9.0       1656\n",
       "10.0       865\n",
       "11.0       479\n",
       "12.0       264\n",
       "13.0       146\n",
       "14.0       107\n",
       "15.0        61\n",
       "16.0        37\n",
       "17.0        22\n",
       "18.0        18\n",
       "19.0        15\n",
       "20.0        13\n",
       "24.0        10\n",
       "22.0         7\n",
       "21.0         4\n",
       "25.0         4\n",
       "27.0         3\n",
       "23.0         2\n",
       "31.0         2\n",
       "26.0         2\n",
       "32.0         2\n",
       "28.0         1\n",
       "34.0         1\n",
       "30.0         1\n",
       "Name: mort_acc, dtype: int64"
      ]
     },
     "execution_count": 44,
     "metadata": {},
     "output_type": "execute_result"
    }
   ],
   "source": [
    "print('Distribution of Number of Mortgage Accounts:')\n",
    "loan_data['mort_acc'].value_counts(ascending=False)"
   ]
  },
  {
   "cell_type": "code",
   "execution_count": 45,
   "metadata": {},
   "outputs": [
    {
     "name": "stdout",
     "output_type": "stream",
     "text": [
      "Correlations to mort_acc:\n"
     ]
    },
    {
     "data": {
      "text/plain": [
       "int_rate               -0.082583\n",
       "dti                    -0.025439\n",
       "revol_util              0.007514\n",
       "pub_rec                 0.011552\n",
       "pub_rec_bankruptcies    0.027239\n",
       "loan_repaid             0.073111\n",
       "open_acc                0.109205\n",
       "installment             0.193694\n",
       "revol_bal               0.194925\n",
       "loan_amnt               0.222315\n",
       "annual_inc              0.236320\n",
       "total_acc               0.381072\n",
       "mort_acc                1.000000\n",
       "Name: mort_acc, dtype: float64"
      ]
     },
     "execution_count": 45,
     "metadata": {},
     "output_type": "execute_result"
    }
   ],
   "source": [
    "print('Correlations to mort_acc:')\n",
    "loan_data.corr()['mort_acc'].sort_values()"
   ]
  },
  {
   "cell_type": "code",
   "execution_count": 46,
   "metadata": {},
   "outputs": [
    {
     "name": "stdout",
     "output_type": "stream",
     "text": [
      "total_acc :  The total number of credit lines currently in the borrower's credit file\n"
     ]
    }
   ],
   "source": [
    "feat_info('total_acc')"
   ]
  },
  {
   "cell_type": "markdown",
   "metadata": {},
   "source": [
    "total_acc correlates the most with mort_acc which would make sense given the count of mortgage accounts would be counted in the total number of credit lines a borrower has.    \n",
    "\n",
    "I will fill the missing mort_acc with the mean of the mort_acc by total_acc."
   ]
  },
  {
   "cell_type": "code",
   "execution_count": 47,
   "metadata": {},
   "outputs": [],
   "source": [
    "# mean of mort_acc by total_acc\n",
    "total_acc_mort_avg = loan_data.groupby('total_acc')['mort_acc'].mean()\n",
    "\n",
    "def fill_mort_acc(total_acc, mort_acc):\n",
    "    '''\n",
    "    Returns the mort_acc avg of the given total_acc if mort_acc is null.\n",
    "    '''\n",
    "    if np.isnan(mort_acc):\n",
    "        return total_acc_mort_avg[total_acc]\n",
    "    else:\n",
    "        return mort_acc\n",
    "    \n",
    "loan_data['mort_acc'] = loan_data.apply(lambda x: fill_mort_acc(x['total_acc'], x['mort_acc']), axis=1)"
   ]
  },
  {
   "cell_type": "markdown",
   "metadata": {},
   "source": [
    "#### revol_util & pub_rec"
   ]
  },
  {
   "cell_type": "code",
   "execution_count": 48,
   "metadata": {},
   "outputs": [
    {
     "name": "stdout",
     "output_type": "stream",
     "text": [
      "revol_util :  Revolving line utilization rate, or the amount of credit the borrower is using relative to all available revolving credit.\n",
      "pub_rec_bankruptcies :  Number of public record bankruptcies\n"
     ]
    }
   ],
   "source": [
    "feat_info('revol_util')\n",
    "feat_info('pub_rec_bankruptcies')"
   ]
  },
  {
   "cell_type": "code",
   "execution_count": 49,
   "metadata": {},
   "outputs": [
    {
     "name": "stdout",
     "output_type": "stream",
     "text": [
      "Number of missing revol_util data points:  276\n",
      "Number of missing pub_rec_bankruptcies data points:  0\n"
     ]
    }
   ],
   "source": [
    "print('Number of missing revol_util data points: ', loan_data['revol_util'].isnull().sum())\n",
    "print('Number of missing pub_rec_bankruptcies data points: ', loan_data['pub_rec'].isnull().sum())"
   ]
  },
  {
   "cell_type": "markdown",
   "metadata": {},
   "source": [
    "Since these last two account for less than 0.5% of the data, I will just drop the rows with missing data."
   ]
  },
  {
   "cell_type": "code",
   "execution_count": 50,
   "metadata": {},
   "outputs": [],
   "source": [
    "# drop all rows with missing data\n",
    "loan_data = loan_data.dropna()"
   ]
  },
  {
   "cell_type": "markdown",
   "metadata": {},
   "source": [
    "### Categorical Variables\n",
    "Review all categorical columns and decide whether to remove them from the model or convert them to dummy variables."
   ]
  },
  {
   "cell_type": "code",
   "execution_count": 51,
   "metadata": {},
   "outputs": [
    {
     "name": "stdout",
     "output_type": "stream",
     "text": [
      "Categorical Variables:\n"
     ]
    },
    {
     "data": {
      "text/plain": [
       "Index(['term', 'grade', 'sub_grade', 'home_ownership', 'verification_status',\n",
       "       'issue_d', 'loan_status', 'purpose', 'earliest_cr_line',\n",
       "       'initial_list_status', 'application_type', 'address'],\n",
       "      dtype='object')"
      ]
     },
     "execution_count": 51,
     "metadata": {},
     "output_type": "execute_result"
    }
   ],
   "source": [
    "print('Categorical Variables:')\n",
    "# select all object type columns\n",
    "loan_data.select_dtypes(['object']).columns"
   ]
  },
  {
   "cell_type": "markdown",
   "metadata": {},
   "source": [
    "#### term "
   ]
  },
  {
   "cell_type": "code",
   "execution_count": 52,
   "metadata": {},
   "outputs": [
    {
     "name": "stdout",
     "output_type": "stream",
     "text": [
      "term :  The number of payments on the loan. Values are in months and can be either 36 or 60.\n"
     ]
    }
   ],
   "source": [
    "feat_info('term')"
   ]
  },
  {
   "cell_type": "markdown",
   "metadata": {},
   "source": [
    "I'll convert the term column into two integers: 36 or 60."
   ]
  },
  {
   "cell_type": "code",
   "execution_count": 53,
   "metadata": {},
   "outputs": [],
   "source": [
    "# take the first 2 characters and convert to an integer\n",
    "loan_data.loc[:, 'term'] = loan_data['term'].apply(lambda term: int(term[:3]))"
   ]
  },
  {
   "cell_type": "markdown",
   "metadata": {},
   "source": [
    "#### grade\n",
    "During the exploratory data analysis section it was identified that grade is a less descriptive column than sub_grade so I'll remove grade."
   ]
  },
  {
   "cell_type": "code",
   "execution_count": 54,
   "metadata": {
    "scrolled": true
   },
   "outputs": [],
   "source": [
    "# remove grade column\n",
    "loan_data = loan_data.drop('grade',axis=1)"
   ]
  },
  {
   "cell_type": "markdown",
   "metadata": {},
   "source": [
    "#### sub_grade\n",
    "Convert to dummy variables."
   ]
  },
  {
   "cell_type": "code",
   "execution_count": 55,
   "metadata": {},
   "outputs": [],
   "source": [
    "# create dummy variables\n",
    "subgrade_dummies = pd.get_dummies(loan_data['sub_grade'], drop_first=True)\n",
    "# drop sub_grade column\n",
    "loan_data = loan_data.drop('sub_grade', axis=1)\n",
    "# concatenate dummy variables to data\n",
    "loan_data = pd.concat([loan_data, subgrade_dummies], axis=1)"
   ]
  },
  {
   "cell_type": "markdown",
   "metadata": {},
   "source": [
    "#### verification_status, application_type, initial_list_status, purpose \n",
    "These will all be converted to dummy variables."
   ]
  },
  {
   "cell_type": "code",
   "execution_count": 56,
   "metadata": {},
   "outputs": [
    {
     "name": "stdout",
     "output_type": "stream",
     "text": [
      "verification_status :  Indicates if income was verified by LC, not verified, or if the income source was verified\n",
      "application_type :  Indicates whether the loan is an individual application or a joint application with two co-borrowers\n",
      "initial_list_status :  The initial listing status of the loan. Possible values are – W, F\n",
      "purpose :  A category provided by the borrower for the loan request. \n"
     ]
    }
   ],
   "source": [
    "feat_info('verification_status')\n",
    "feat_info('application_type')\n",
    "feat_info('initial_list_status')\n",
    "feat_info('purpose')"
   ]
  },
  {
   "cell_type": "code",
   "execution_count": 57,
   "metadata": {},
   "outputs": [],
   "source": [
    "# create dummy variables\n",
    "dummies = pd.get_dummies(loan_data[['verification_status', 'application_type',\n",
    "                                    'initial_list_status','purpose']], drop_first=True)\n",
    "# drop original columns\n",
    "loan_data = loan_data.drop(['verification_status', 'application_type',\n",
    "                            'initial_list_status', 'purpose'], axis=1)\n",
    "# concatenate dummy variables to data\n",
    "loan_data = pd.concat([loan_data,dummies], axis=1)"
   ]
  },
  {
   "cell_type": "markdown",
   "metadata": {},
   "source": [
    "#### home_ownership\n",
    "Convert to dummy variables."
   ]
  },
  {
   "cell_type": "code",
   "execution_count": 58,
   "metadata": {},
   "outputs": [
    {
     "data": {
      "text/plain": [
       "MORTGAGE    198022\n",
       "RENT        159395\n",
       "OWN          37660\n",
       "OTHER          110\n",
       "NONE            29\n",
       "ANY              3\n",
       "Name: home_ownership, dtype: int64"
      ]
     },
     "execution_count": 58,
     "metadata": {},
     "output_type": "execute_result"
    }
   ],
   "source": [
    "loan_data['home_ownership'].value_counts()"
   ]
  },
  {
   "cell_type": "markdown",
   "metadata": {},
   "source": [
    "The none and any values do not give any unique information so I will convert them to the already existing OTHER category."
   ]
  },
  {
   "cell_type": "code",
   "execution_count": 59,
   "metadata": {},
   "outputs": [],
   "source": [
    "# replace NONE and ANY to OTHER\n",
    "loan_data['home_ownership'] = loan_data['home_ownership'].replace(['NONE', 'ANY'], 'OTHER')\n",
    "# get dummy variables\n",
    "dummies = pd.get_dummies(loan_data['home_ownership'], drop_first=True)\n",
    "# drop home ownership column and concatenate with dummies\n",
    "loan_data = pd.concat([loan_data.drop('home_ownership', axis=1), dummies], axis=1)"
   ]
  },
  {
   "cell_type": "markdown",
   "metadata": {},
   "source": [
    "#### address\n",
    "Use feature engineering to pull out zip code. Convert new zip code column to dummy variables and drop the original address column."
   ]
  },
  {
   "cell_type": "code",
   "execution_count": 60,
   "metadata": {},
   "outputs": [
    {
     "data": {
      "text/plain": [
       "0       0174 Michelle Gateway\\nMendozaberg, OK 22690\n",
       "1    1076 Carney Fort Apt. 347\\nLoganmouth, SD 05113\n",
       "2    87025 Mark Dale Apt. 269\\nNew Sabrina, WV 05113\n",
       "3              823 Reid Ford\\nDelacruzside, MA 00813\n",
       "4               679 Luna Roads\\nGreggshire, VA 11650\n",
       "Name: address, dtype: object"
      ]
     },
     "execution_count": 60,
     "metadata": {},
     "output_type": "execute_result"
    }
   ],
   "source": [
    "loan_data['address'].head()"
   ]
  },
  {
   "cell_type": "markdown",
   "metadata": {},
   "source": [
    "The format of the address has the zip code as the last five characters of the string. State could also be a relevant feature but I will go with zip code as it has more specific info."
   ]
  },
  {
   "cell_type": "code",
   "execution_count": 61,
   "metadata": {},
   "outputs": [],
   "source": [
    "# create new zip code column by pulling out the last 5 characters from the address column\n",
    "loan_data['zip_code'] = loan_data['address'].apply(lambda address: address[-5:])\n",
    "# create dummy variables\n",
    "dummies = pd.get_dummies(loan_data['zip_code'], drop_first=True)\n",
    "# drop zip code and address columns\n",
    "loan_data = loan_data.drop(['zip_code', 'address'], axis=1)\n",
    "# concatenate dummy variables to data\n",
    "loan_data = pd.concat([loan_data, dummies], axis=1)"
   ]
  },
  {
   "cell_type": "markdown",
   "metadata": {},
   "source": [
    "#### issue_d"
   ]
  },
  {
   "cell_type": "code",
   "execution_count": 62,
   "metadata": {},
   "outputs": [
    {
     "name": "stdout",
     "output_type": "stream",
     "text": [
      "issue_d :  The month which the loan was funded\n"
     ]
    }
   ],
   "source": [
    "feat_info('issue_d')"
   ]
  },
  {
   "cell_type": "markdown",
   "metadata": {},
   "source": [
    "We wouldn't know beforehand whether or not a loan would be issued so we would not have this feature. We'll remove it or else this would be data leakage."
   ]
  },
  {
   "cell_type": "code",
   "execution_count": 63,
   "metadata": {},
   "outputs": [],
   "source": [
    "# drop issue_d column\n",
    "loan_data = loan_data.drop('issue_d', axis=1)"
   ]
  },
  {
   "cell_type": "markdown",
   "metadata": {},
   "source": [
    "#### earliest_cr_line"
   ]
  },
  {
   "cell_type": "code",
   "execution_count": 64,
   "metadata": {},
   "outputs": [
    {
     "name": "stdout",
     "output_type": "stream",
     "text": [
      "earliest_cr_line :  The month the borrower's earliest reported credit line was opened\n"
     ]
    }
   ],
   "source": [
    "feat_info('earliest_cr_line')"
   ]
  },
  {
   "cell_type": "code",
   "execution_count": 65,
   "metadata": {},
   "outputs": [
    {
     "data": {
      "text/plain": [
       "0    Jun-1990\n",
       "1    Jul-2004\n",
       "2    Aug-2007\n",
       "3    Sep-2006\n",
       "4    Mar-1999\n",
       "Name: earliest_cr_line, dtype: object"
      ]
     },
     "execution_count": 65,
     "metadata": {},
     "output_type": "execute_result"
    }
   ],
   "source": [
    "loan_data['earliest_cr_line'].head()"
   ]
  },
  {
   "cell_type": "code",
   "execution_count": 66,
   "metadata": {},
   "outputs": [],
   "source": [
    "# create a year column based on last four characters\n",
    "loan_data['earliest_cr_line'] = loan_data['earliest_cr_line'].apply(lambda date: int(date[-4:]))"
   ]
  },
  {
   "cell_type": "markdown",
   "metadata": {},
   "source": [
    "## Model Training"
   ]
  },
  {
   "cell_type": "code",
   "execution_count": 67,
   "metadata": {},
   "outputs": [],
   "source": [
    "# drop loan_status column as we have already converted it to loan_repaid\n",
    "loan_data = loan_data.drop('loan_status',axis=1)\n",
    "\n",
    "# indicate feature and label columns in numpy array format\n",
    "X = loan_data.drop('loan_repaid',axis=1).values\n",
    "y = loan_data['loan_repaid'].values\n",
    "\n",
    "# perform train-test split with test size 20%\n",
    "X_train, X_test, y_train, y_test = train_test_split(X, y, test_size=0.2, random_state=101)"
   ]
  },
  {
   "cell_type": "markdown",
   "metadata": {},
   "source": [
    "### Normalizing the Data\n",
    "Normalize data using MinMaxScaler. Fit the data on X_train only to avoid data leakage and then transform on both X_train and y_train."
   ]
  },
  {
   "cell_type": "code",
   "execution_count": 68,
   "metadata": {},
   "outputs": [],
   "source": [
    "scaler = MinMaxScaler()\n",
    "\n",
    "X_train = scaler.fit_transform(X_train)\n",
    "X_test = scaler.transform(X_test)"
   ]
  },
  {
   "cell_type": "markdown",
   "metadata": {},
   "source": [
    "### Creating the Model"
   ]
  },
  {
   "cell_type": "code",
   "execution_count": 69,
   "metadata": {},
   "outputs": [
    {
     "name": "stdout",
     "output_type": "stream",
     "text": [
      "rows, columns:  (316175, 78)\n"
     ]
    }
   ],
   "source": [
    "print('rows, columns: ', X_train.shape)"
   ]
  },
  {
   "cell_type": "code",
   "execution_count": 70,
   "metadata": {},
   "outputs": [
    {
     "name": "stdout",
     "output_type": "stream",
     "text": [
      "Epoch 1/100\n",
      "1054/1054 [==============================] - 3s 3ms/step - loss: 0.3671 - val_loss: 0.2641\n",
      "Epoch 2/100\n",
      "1054/1054 [==============================] - 2s 2ms/step - loss: 0.2655 - val_loss: 0.2633\n",
      "Epoch 3/100\n",
      "1054/1054 [==============================] - 2s 2ms/step - loss: 0.2623 - val_loss: 0.2624\n",
      "Epoch 4/100\n",
      "1054/1054 [==============================] - 2s 2ms/step - loss: 0.2614 - val_loss: 0.2619\n",
      "Epoch 5/100\n",
      "1054/1054 [==============================] - 2s 2ms/step - loss: 0.2603 - val_loss: 0.2619\n",
      "Epoch 6/100\n",
      "1054/1054 [==============================] - 2s 2ms/step - loss: 0.2617 - val_loss: 0.2613\n",
      "Epoch 7/100\n",
      "1054/1054 [==============================] - 2s 2ms/step - loss: 0.2600 - val_loss: 0.2616\n",
      "Epoch 8/100\n",
      "1054/1054 [==============================] - 2s 2ms/step - loss: 0.2598 - val_loss: 0.2616\n",
      "Epoch 9/100\n",
      "1054/1054 [==============================] - 2s 2ms/step - loss: 0.2595 - val_loss: 0.2610\n",
      "Epoch 10/100\n",
      "1054/1054 [==============================] - 2s 2ms/step - loss: 0.2624 - val_loss: 0.2617\n",
      "Epoch 11/100\n",
      "1054/1054 [==============================] - 2s 2ms/step - loss: 0.2605 - val_loss: 0.2612\n",
      "Epoch 12/100\n",
      "1054/1054 [==============================] - 2s 2ms/step - loss: 0.2595 - val_loss: 0.2612\n",
      "Epoch 13/100\n",
      "1054/1054 [==============================] - 2s 2ms/step - loss: 0.2582 - val_loss: 0.2614\n",
      "Epoch 14/100\n",
      "1054/1054 [==============================] - 2s 2ms/step - loss: 0.2582 - val_loss: 0.2611\n",
      "Epoch 00014: early stopping\n"
     ]
    },
    {
     "data": {
      "text/plain": [
       "<tensorflow.python.keras.callbacks.History at 0x1ff8a348370>"
      ]
     },
     "execution_count": 70,
     "metadata": {},
     "output_type": "execute_result"
    }
   ],
   "source": [
    "# set early stop, patience: wait 5 epochs after\n",
    "early_stop = EarlyStopping(monitor='val_loss', mode='min', verbose=1, patience=5)\n",
    "\n",
    "# instantiate sequential model\n",
    "model = Sequential([\n",
    "    Dense(78, activation='relu'),\n",
    "    Dropout(0.2),\n",
    "    Dense(30, activation='relu'),\n",
    "    Dropout(0.2),\n",
    "    Dense(19, activation='relu'),\n",
    "    Dropout(0.2),\n",
    "    Dense(units=1,activation='sigmoid')\n",
    "])\n",
    "\n",
    "# compile model\n",
    "model.compile(loss='binary_crossentropy', optimizer='adam')\n",
    "\n",
    "# fit model to training data\n",
    "model.fit(X_train, y_train, epochs=100, batch_size=300,\n",
    "          validation_data=(X_test, y_test), callbacks=[early_stop])"
   ]
  },
  {
   "cell_type": "markdown",
   "metadata": {},
   "source": [
    "## Model Evaluation"
   ]
  },
  {
   "cell_type": "code",
   "execution_count": 71,
   "metadata": {},
   "outputs": [
    {
     "data": {
      "text/plain": [
       "Text(0, 0.5, 'Loss')"
      ]
     },
     "execution_count": 71,
     "metadata": {},
     "output_type": "execute_result"
    },
    {
     "data": {
      "image/png": "[encoded data removed]",
      "text/plain": [
       "<Figure size 432x288 with 1 Axes>"
      ]
     },
     "metadata": {},
     "output_type": "display_data"
    }
   ],
   "source": [
    "# create losses df from model histroy\n",
    "losses = pd.DataFrame(model.history.history)\n",
    "\n",
    "# plot losses between the train and test data\n",
    "losses[['loss','val_loss']].plot()\n",
    "plt.title('Model Losses')\n",
    "plt.xlabel('Epochs')\n",
    "plt.ylabel('Loss')"
   ]
  },
  {
   "cell_type": "markdown",
   "metadata": {},
   "source": [
    "The test data's loss evens out around 15-25 epochs so we will leave the model selection as is."
   ]
  },
  {
   "cell_type": "code",
   "execution_count": 72,
   "metadata": {},
   "outputs": [],
   "source": [
    "# predict whether the loan is repaid on the test data\n",
    "predictions = (model.predict(X_test) > 0.5).astype(\"int32\")"
   ]
  },
  {
   "cell_type": "code",
   "execution_count": 73,
   "metadata": {},
   "outputs": [
    {
     "name": "stdout",
     "output_type": "stream",
     "text": [
      "              precision    recall  f1-score   support\n",
      "\n",
      "           0       0.98      0.44      0.61     15658\n",
      "           1       0.88      1.00      0.93     63386\n",
      "\n",
      "    accuracy                           0.89     79044\n",
      "   macro avg       0.93      0.72      0.77     79044\n",
      "weighted avg       0.90      0.89      0.87     79044\n",
      "\n"
     ]
    }
   ],
   "source": [
    "print(classification_report(y_test, predictions))"
   ]
  },
  {
   "cell_type": "code",
   "execution_count": 74,
   "metadata": {},
   "outputs": [
    {
     "name": "stdout",
     "output_type": "stream",
     "text": [
      "[[ 6942  8716]\n",
      " [  176 63210]]\n"
     ]
    }
   ],
   "source": [
    "print(confusion_matrix(y_test, predictions))"
   ]
  },
  {
   "cell_type": "code",
   "execution_count": 75,
   "metadata": {},
   "outputs": [
    {
     "data": {
      "text/plain": [
       "Text(0.5, 1.0, 'Confusion Matrix')"
      ]
     },
     "execution_count": 75,
     "metadata": {},
     "output_type": "execute_result"
    },
    {
     "data": {
      "image/png": "[encoded data removed]",
      "text/plain": [
       "<Figure size 432x288 with 2 Axes>"
      ]
     },
     "metadata": {},
     "output_type": "display_data"
    }
   ],
   "source": [
    "cnf_matrix = confusion_matrix(y_test, predictions)\n",
    "\n",
    "# confusion matrix in percentages\n",
    "cnf_percent = np.concatenate((cnf_matrix[0]/np.sum(cnf_matrix[0]), cnf_matrix[1]/np.sum(cnf_matrix[1])))\n",
    "\n",
    "# set confusion matrix labels\n",
    "group_names = ['True Neg','False Pos','False Neg','True Pos']\n",
    "group_counts = [\"{0:0.0f}\".format(value) for value in cnf_matrix.flatten()]\n",
    "group_percentages = [\"{0:.2%}\".format(value) for value in cnf_percent]\n",
    "labels = [f\"{v1}\\n{v2}\\n{v3}\" for v1, v2, v3 in\n",
    "          zip(group_names,group_counts,group_percentages)]\n",
    "labels = np.asarray(labels).reshape(2,2)\n",
    "\n",
    "# create heatmap with labels\n",
    "sns.heatmap(cnf_matrix, annot=labels, fmt='', cmap='Blues')\n",
    "plt.title('Confusion Matrix')"
   ]
  },
  {
   "cell_type": "markdown",
   "metadata": {},
   "source": [
    "Given that this model is heavily imbalanced to fully paid loans (at 80%), the accuracy of 89% is okay. The precision for class 0, charged off loans is good but the recall is quite low meaning that only 44% of of true class 0's were correctly classified.\n",
    "\n",
    "The purpose of using such a model would be to avoid loaning to borrowers that are not likely to pay back their loans in full so the importance of predicting class 0 correctly is high. Based off of this, I would say that these aren't the best metrics for that."
   ]
  }
 ],
 "metadata": {
  "kernelspec": {
   "display_name": "python3.8venv",
   "language": "python",
   "name": "python3.8venv"
  },
  "language_info": {
   "codemirror_mode": {
    "name": "ipython",
    "version": 3
   },
   "file_extension": ".py",
   "mimetype": "text/x-python",
   "name": "python",
   "nbconvert_exporter": "python",
   "pygments_lexer": "ipython3",
   "version": "3.8.7"
  }
 },
 "nbformat": 4,
 "nbformat_minor": 4
}
